{
 "metadata": {
  "name": "",
  "signature": "sha256:5c2a52a7fdee658da9cacd127a893c6cb0372e61ce29e4c8a7326aa810d2806b"
 },
 "nbformat": 3,
 "nbformat_minor": 0,
 "worksheets": [
  {
   "cells": [
    {
     "cell_type": "code",
     "collapsed": false,
     "input": [
      "%matplotlib inline"
     ],
     "language": "python",
     "metadata": {},
     "outputs": []
    },
    {
     "cell_type": "markdown",
     "metadata": {},
     "source": [
      "# Exercice 1\n",
      "\n",
      "## Calcul du biais\n",
      "\n",
      "On d\u00e9finit l'estimateur suivant : $\\hat{V}_{\\alpha} = \\alpha \\sum_{i=1}^{n} (X_{i} - \\bar{X}_{n})^{2}$. On souhaite calculer son biais ainsi que sa variance. \n",
      "\n",
      "On d\u00e9finit le biais comme \u00e9tant : \n",
      "\n",
      "\\begin{equation*} Biais = E(\\hat{V}_{\\alpha}) - \\sigma^{2}\\end{equation*}\n",
      "\\begin{equation*} Biais = \\alpha \\sum_{i=1}^{n} \\big( E(X_{i}^{2}) - 2 \\bar{X}_{n}E(X_{i}) + (\\bar{X}_{n})^{2} \\big) - \\sigma^{2}\\end{equation*}\n",
      "\n",
      "\\begin{equation*} Biais = \\alpha \\sum_{i=1}^{n} \\big( E(X_{i}^{2}) - 2 \\bar{X}_{n}E(X_{i}) + (\\bar{X}_{n})^{2} \\big) - \\sigma^{2}\\end{equation*}\n",
      "\n",
      "Or, on a d'une part, d'apr\u00e8s la relation de Huygens : \n",
      "\n",
      "\\begin{equation*} E(X_{i}^{2}) = \\sigma^{2}\\end{equation*} \n",
      "\n",
      "Et on a d'autre part: \n",
      "\n",
      "\\begin{equation*} E(\\bar{X}_{n}^{2}) = \\frac{\\sigma^{2}}{n}\\end{equation*} \n",
      "\n",
      "Ainsi, en rempla\u00e7ant, on a : \n",
      "\n",
      "\\begin{equation*} Biais = \\alpha \\sum_{i=1}^{n} \\big( \\sigma^{2} + \\frac{\\sigma^{2}}{n} \\big) - \\sigma^{2}\\end{equation*}\n",
      "\n",
      "\n",
      "\\begin{equation*} Biais = \\sigma^{2}(\\alpha(n+1) - 1)\\end{equation*}\n",
      "\n",
      "## Calcul de la Variance de l'estimateur\n",
      "\n",
      "On cherche maintenant \u00e0 calculer $Var(\\hat{V}_{\\alpha})$. \n",
      "\n"
     ]
    },
    {
     "cell_type": "markdown",
     "metadata": {},
     "source": [
      "# Exercice 2\n",
      "\n",
      "Le but de cet exercice est de fournir un mod\u00e8le permettant de donner \u00e0 un score \u00e0 un vin en fonction des caract\u00e9ristiques suivantes :\n",
      "- fixed acidity\n",
      "- volatile acidity\n",
      "- citric acidity\n",
      "- residual sugar\n",
      "- chlorides\n",
      "- total sulfur dioxide\n",
      "- density\n",
      "- pH\n",
      "- sulfates\n",
      "- alcohol\n",
      "\n",
      "Les donn\u00e9es sont r\u00e9cup\u00e9r\u00e9es depuis un fichier CSV.\n"
     ]
    },
    {
     "cell_type": "code",
     "collapsed": false,
     "input": [
      "import pandas as pd\n",
      "import matplotlib.pyplot as plt\n",
      "import numpy as np\n",
      "from sklearn import linear_model\n",
      "from sklearn import cross_validation\n",
      "\n",
      "# Loading data\n",
      "winedata = pd.read_csv(\"data/winequality-red.csv\",delimiter=\";\")\n",
      "winedata.dropna()  # Dropping useless data.\n",
      "\n",
      "quality = np.reshape(winedata[\"quality\"].values,[winedata[\"quality\"].values.shape[0],]) # Preparing data for numpy\n",
      "\n",
      "data = winedata.drop(\"quality\",1) # We want to predict quality, so we leave from the features. \n",
      "data = np.reshape(data.values,[data.values.shape[0],data.values.shape[1]]) # Preparing data for numpy"
     ],
     "language": "python",
     "metadata": {},
     "outputs": []
    },
    {
     "cell_type": "markdown",
     "metadata": {},
     "source": [
      "### Question 1\n",
      "(a) On construit le mod\u00e8le lin\u00e9aire : \n"
     ]
    },
    {
     "cell_type": "code",
     "collapsed": false,
     "input": [
      "regr = linear_model.LinearRegression(fit_intercept=False)\n",
      "regr.fit(data,quality)\n",
      "\n",
      "print \"Mod\u00e8le linaire\"\n",
      "print(\"r\u00e9alis\u00e9 avec \" + str(data.shape[0]) + \" observations.\")\n",
      "print(\"Coefficients : \\n\",regr.coef_)"
     ],
     "language": "python",
     "metadata": {},
     "outputs": []
    },
    {
     "cell_type": "markdown",
     "metadata": {},
     "source": [
      "On cherche \u00e0 p\u00e9naliser tous les param\u00e8tres sauf le param\u00e8tre du regresseur constant.\n",
      "On d\u00e9finit $\\tilde{Y}$ et $\\tilde{X}$ tels que : \n",
      "\n",
      "\\begin{equation*} \\tilde{Y} = \\frac{(Y - \\bar{Y}_{n})}{\\sqrt{var_{n}(Y)}}\\end{equation*} \n",
      "\\begin{equation*} \\tilde{X}_{:,i} = \\frac{(X_{:,i} - \\bar{X}_{:,i})}{\\sqrt{var_{n}(X_{:,i})}}\\end{equation*} "
     ]
    },
    {
     "cell_type": "code",
     "collapsed": false,
     "input": [
      "y = (quality - np.mean(quality)) / np.std(quality) # Normalizing features\n",
      "\n",
      "for i in range(data.shape[1]): # Normalizing observations\n",
      "    data[:,i] = (data[:,i] - np.mean(data[:,i]))/np.std(data[:,i])\n",
      "\n",
      "X = data"
     ],
     "language": "python",
     "metadata": {},
     "outputs": []
    },
    {
     "cell_type": "code",
     "collapsed": false,
     "input": [
      "print \"X:\"\n",
      "print X[158],X[159],X[213]\n",
      "\n",
      "print \"Y:\"\n",
      "print  y[158],y[159],y[213]"
     ],
     "language": "python",
     "metadata": {},
     "outputs": []
    },
    {
     "cell_type": "markdown",
     "metadata": {},
     "source": [
      "On consid\u00e8re d\u00e9sormais la base de donn\u00e9e *winequality-white*"
     ]
    },
    {
     "cell_type": "code",
     "collapsed": false,
     "input": [
      "winedata = pd.read_csv(\"data/winequality-white.csv\",delimiter=\";\")\n",
      "winedata.dropna()\n",
      "\n",
      "y = np.reshape(winedata[\"quality\"].values,[winedata[\"quality\"].values.shape[0],])\n",
      "y = (y - np.mean(y)) / np.std(y) # Normalizing observations\n",
      "\n",
      "data = winedata.drop(\"quality\",1)\n",
      "X = np.reshape(data.values,[data.values.shape[0],data.values.shape[1]])\n",
      "\n",
      "for i in range(X.shape[1]): # Normalizing features\n",
      "    X[:,i] = (X[:,i] - np.mean(X[:,i]))/np.std(X[:,i])"
     ],
     "language": "python",
     "metadata": {},
     "outputs": []
    },
    {
     "cell_type": "markdown",
     "metadata": {},
     "source": [
      "### Question 2\n",
      "\n",
      "La fonction de cout pour la r\u00e9gression Lasso est la suivante : \n",
      "\n",
      "\\begin{equation*} argmin\\big( \\frac{1}{2} \\| y - X\\theta \\|_{2}^{2} - \\lambda\\|\\theta\\|_{1}\\big)\\end{equation*} \n",
      "\n",
      "### Question 3\n",
      "Appelons une telle fonction **Lasso** : "
     ]
    },
    {
     "cell_type": "code",
     "collapsed": false,
     "input": [
      "def Lasso(X,y,penalisation): # Where X are the features, Y the observations, and the penalisation factor\n",
      "    lass = linear_model.Lasso(fit_intercept=False,alpha=penalisation)\n",
      "    lass.fit(X,y)\n",
      "    return (lass.coef_,lass.predict(X))"
     ],
     "language": "python",
     "metadata": {},
     "outputs": []
    },
    {
     "cell_type": "markdown",
     "metadata": {},
     "source": [
      "### Question 4\n",
      "\n",
      "Trac\u00e9 des trajectoires des param\u00e8tres $\\hat{\\theta}(\\lambda)$ en fonction de $\\lambda$ : "
     ]
    },
    {
     "cell_type": "code",
     "collapsed": false,
     "input": [
      "# Plotting coefficients amplitude according to penalisation\n",
      "# We decide on a range for penalisations : for 10e-5 to 10e2. \n",
      "\n",
      "penalisations = np.logspace(-6, 3, 200) # We take 200 penalisations in the range defined above\n",
      "\n",
      "coeffs = list() \n",
      "\n",
      "for penalisation in penalisations:\n",
      "    output = Lasso(X,y,penalisation)\n",
      "    coeffs.append(output[0])\n",
      "\n",
      "# Plotting the result\n",
      "\n",
      "fig1=plt.figure(figsize=(12,8))\n",
      "ax1 = fig1.add_subplot(111)\n",
      "ax1.set_xscale('log')\n",
      "ax1.plot(penalisations,coeffs)\n",
      "plt.xlabel(\"Penalisations\")\n",
      "plt.ylabel(\"thetas\")\n"
     ],
     "language": "python",
     "metadata": {},
     "outputs": [
      {
       "metadata": {},
       "output_type": "pyout",
       "prompt_number": 20,
       "text": [
        "<matplotlib.text.Text at 0x10ddd36d0>"
       ]
      },
      {
       "metadata": {},
       "output_type": "display_data",
       "png": "[encoded data removed]",
       "text": [
        "<matplotlib.figure.Figure at 0x10de7b8d0>"
       ]
      }
     ],
     "prompt_number": 20
    },
    {
     "cell_type": "markdown",
     "metadata": {},
     "source": [
      "### Question 5\n",
      "\n",
      "(a) Dans le cas de la validation crois\u00e9e de type \"Leave-one-out\", seule une observation du jeu de donn\u00e9es servira \u00e0 la validation du mod\u00e8le tandis que le reste des donn\u00e9es servira \u00e0 l'entrainement du mod\u00e8le. \n",
      "\n",
      "(b) On prend un intervalle de facteurs de p\u00e9nalisations : $[10^{-5}, 10^{2}]$. \n",
      "\n",
      "On cherche le plus petit $\\lambda$ tel que tous les coefficients sont nuls. \n"
     ]
    },
    {
     "cell_type": "code",
     "collapsed": false,
     "input": [
      "lassCV = linear_model.LassoCV(alphas=penalisations,fit_intercept=False,normalize=False)\n",
      "lassCV.fit(X,y)\n",
      "\n",
      "# Question 5b\n",
      "print \"Lasso with CV : \"\n",
      "print \"Penalisation trouv\u00e9e par CV : \" + str(lassCV.alpha_)"
     ],
     "language": "python",
     "metadata": {},
     "outputs": [
      {
       "output_type": "stream",
       "stream": "stdout",
       "text": [
        "Lasso with CV : \n",
        "Penalisation trouv\u00e9e par CV : 0.00373993730248\n"
       ]
      }
     ],
     "prompt_number": 21
    },
    {
     "cell_type": "markdown",
     "metadata": {},
     "source": [
      "La validation crois\u00e9e nous donne un $\\lambda = 3,7 . 10^{-3}$"
     ]
    },
    {
     "cell_type": "markdown",
     "metadata": {},
     "source": [
      "(c) La pr\u00e9diction avec le mod\u00e8le du lasso obtenu par validation crois\u00e9e donne : "
     ]
    },
    {
     "cell_type": "code",
     "collapsed": false,
     "input": [
      "x_test = np.array([6,0.3,0.2,6,0.053,25,149,0.9934,3.24,0.35,10])\n",
      "\n",
      "print \"Score : \"\n",
      "print lassCV.predict(x_test)"
     ],
     "language": "python",
     "metadata": {},
     "outputs": [
      {
       "output_type": "stream",
       "stream": "stdout",
       "text": [
        "Score : \n",
        "5.72863425238\n"
       ]
      }
     ],
     "prompt_number": 22
    },
    {
     "cell_type": "markdown",
     "metadata": {},
     "source": [
      "(d) On ajuste un mod\u00e8le non p\u00e9nalis\u00e9 aux donn\u00e9es. On obtient les r\u00e9sultats suivants : "
     ]
    },
    {
     "cell_type": "code",
     "collapsed": false,
     "input": [
      "ols = linear_model.LinearRegression(fit_intercept=False)\n",
      "ols.fit(X,y)\n",
      "\n",
      "print(\"Somme des carr\u00e9s des erreurs OLS:\")\n",
      "print np.mean( (ols.predict(X) - y) ** 2)\n",
      "\n",
      "print(\"Somme des carr\u00e9s des erreurs LassoCV:\")\n",
      "print np.mean( (lassCV.predict(X) - y) ** 2)\n",
      "\n",
      "print(\"Biais pour les MCO :\")\n",
      "print np.mean(ols.coef_)\n",
      "\n",
      "print(\"Biais pour le LassoCV : \")\n",
      "print np.mean(lassCV.coef_)"
     ],
     "language": "python",
     "metadata": {},
     "outputs": [
      {
       "output_type": "stream",
       "stream": "stdout",
       "text": [
        "Somme des carr\u00e9s des erreurs OLS:\n",
        "0.718129635867\n",
        "Somme des carr\u00e9s des erreurs LassoCV:\n",
        "0.71921461992\n",
        "Biais pour les MCO :\n",
        "0.0301481156464\n",
        "Biais pour le LassoCV : \n",
        "0.0317696341243\n"
       ]
      }
     ],
     "prompt_number": 24
    },
    {
     "cell_type": "markdown",
     "metadata": {},
     "source": [
      "(e) \n",
      "\n",
      "#### Premi\u00e8re approche\n",
      "#### Deuxi\u00e8me approche"
     ]
    },
    {
     "cell_type": "code",
     "collapsed": false,
     "input": [],
     "language": "python",
     "metadata": {},
     "outputs": []
    }
   ],
   "metadata": {}
  }
 ]
}